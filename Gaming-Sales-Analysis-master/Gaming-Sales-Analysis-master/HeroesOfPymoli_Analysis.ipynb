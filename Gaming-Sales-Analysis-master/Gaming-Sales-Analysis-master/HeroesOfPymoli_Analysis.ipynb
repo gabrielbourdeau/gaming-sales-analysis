{
 "cells": [
  {
   "cell_type": "markdown",
   "metadata": {},
   "source": [
    "# HEROES OF PYMOLI - DATA ANALYSIS\n",
    "---\n",
    "\n",
    "### BACKGROUND:\n",
    "\n",
    "Like many others in its genre, the game is free-to-play, but players are encouraged to purchase optional items that enhance their playing experience. As a first task, the company would like you to generate a report that breaks down the game's purchasing data into meaningful insights.\n",
    "\n",
    "---\n",
    "\n",
    "### ANALYSIS:\n",
    "- **576** players purchased **780** in-game items producing **2379.77 USD** in total sales\n",
    "- Most players that purchased items were **men (84%)** while only a few were **women (14%)**\n",
    "- Although Pymoli is predominatly men, ***women tend to spend more money*** on average than men, indicating more marketing should be spent on women who could potentially drive more in-game sales.\n",
    "- Most Pymoli players fell into the age ranges of **20-24 (45%)** followed by **15-19 (19%)** indicating a high school and college audience. These players consume a lot of social media, so we can maximize our ads to be on social. Players have also used these purchases to increase their social status in game. \n",
    "- These were to top 3 spenders: ***Lisosia93 (18.96 USD), Idastidru52 (15.45 USD), Chamjask73 (13.83 USD)***. We should send these players thank you notes for their continued support of Pymoli and continue developing new items for these players.\n",
    "- The **'Final Critic'** drove the most sales (59.99 USD) and largest volume purchased (13)\n",
    "---\n",
    "\n",
    "### TABLE OF CONTENTS:\n",
    "    0. Setup / Dependencies\n",
    "    1. Player Count\n",
    "    2. Purchasing Analysis (Total)\n",
    "    3. Gender Demographics\n",
    "    4. Purchasing Analysis by Gender\n",
    "    5. Age Demographics\n",
    "    6. Purchasing Analysis (Age)\n",
    "    7. Top Spenders\n",
    "    8. Most Popular Items\n",
    "    9. Most Profitable Items\n",
    "   "
   ]
  },
  {
   "cell_type": "markdown",
   "metadata": {},
   "source": [
    "## 0. SETUP / DEPENDENCIES\n",
    "---"
   ]
  },
  {
   "cell_type": "code",
   "execution_count": 1,
   "metadata": {
    "scrolled": true
   },
   "outputs": [
    {
     "data": {
      "text/html": [
       "<div>\n",
       "<style scoped>\n",
       "    .dataframe tbody tr th:only-of-type {\n",
       "        vertical-align: middle;\n",
       "    }\n",
       "\n",
       "    .dataframe tbody tr th {\n",
       "        vertical-align: top;\n",
       "    }\n",
       "\n",
       "    .dataframe thead th {\n",
       "        text-align: right;\n",
       "    }\n",
       "</style>\n",
       "<table border=\"1\" class=\"dataframe\">\n",
       "  <thead>\n",
       "    <tr style=\"text-align: right;\">\n",
       "      <th></th>\n",
       "      <th>Purchase ID</th>\n",
       "      <th>SN</th>\n",
       "      <th>Age</th>\n",
       "      <th>Gender</th>\n",
       "      <th>Item ID</th>\n",
       "      <th>Item Name</th>\n",
       "      <th>Price</th>\n",
       "    </tr>\n",
       "  </thead>\n",
       "  <tbody>\n",
       "    <tr>\n",
       "      <td>0</td>\n",
       "      <td>0</td>\n",
       "      <td>Lisim78</td>\n",
       "      <td>20</td>\n",
       "      <td>Male</td>\n",
       "      <td>108</td>\n",
       "      <td>Extraction, Quickblade Of Trembling Hands</td>\n",
       "      <td>3.53</td>\n",
       "    </tr>\n",
       "    <tr>\n",
       "      <td>1</td>\n",
       "      <td>1</td>\n",
       "      <td>Lisovynya38</td>\n",
       "      <td>40</td>\n",
       "      <td>Male</td>\n",
       "      <td>143</td>\n",
       "      <td>Frenzied Scimitar</td>\n",
       "      <td>1.56</td>\n",
       "    </tr>\n",
       "    <tr>\n",
       "      <td>2</td>\n",
       "      <td>2</td>\n",
       "      <td>Ithergue48</td>\n",
       "      <td>24</td>\n",
       "      <td>Male</td>\n",
       "      <td>92</td>\n",
       "      <td>Final Critic</td>\n",
       "      <td>4.88</td>\n",
       "    </tr>\n",
       "    <tr>\n",
       "      <td>3</td>\n",
       "      <td>3</td>\n",
       "      <td>Chamassasya86</td>\n",
       "      <td>24</td>\n",
       "      <td>Male</td>\n",
       "      <td>100</td>\n",
       "      <td>Blindscythe</td>\n",
       "      <td>3.27</td>\n",
       "    </tr>\n",
       "    <tr>\n",
       "      <td>4</td>\n",
       "      <td>4</td>\n",
       "      <td>Iskosia90</td>\n",
       "      <td>23</td>\n",
       "      <td>Male</td>\n",
       "      <td>131</td>\n",
       "      <td>Fury</td>\n",
       "      <td>1.44</td>\n",
       "    </tr>\n",
       "  </tbody>\n",
       "</table>\n",
       "</div>"
      ],
      "text/plain": [
       "   Purchase ID             SN  Age Gender  Item ID  \\\n",
       "0            0        Lisim78   20   Male      108   \n",
       "1            1    Lisovynya38   40   Male      143   \n",
       "2            2     Ithergue48   24   Male       92   \n",
       "3            3  Chamassasya86   24   Male      100   \n",
       "4            4      Iskosia90   23   Male      131   \n",
       "\n",
       "                                   Item Name  Price  \n",
       "0  Extraction, Quickblade Of Trembling Hands   3.53  \n",
       "1                          Frenzied Scimitar   1.56  \n",
       "2                               Final Critic   4.88  \n",
       "3                                Blindscythe   3.27  \n",
       "4                                       Fury   1.44  "
      ]
     },
     "execution_count": 1,
     "metadata": {},
     "output_type": "execute_result"
    }
   ],
   "source": [
    "# Dependencies and Setup\n",
    "import numpy as np\n",
    "import pandas as pd\n",
    "import matplotlib.pyplot as plt\n",
    "import seaborn as sns\n",
    "%matplotlib inline\n",
    "\n",
    "# File to Load\n",
    "file_path = \"Resources/purchase_data.csv\"\n",
    "\n",
    "# Read Purchasing File and store into Pandas data frame\n",
    "df = pd.read_csv(file_path)\n",
    "\n",
    "# Preview data frame\n",
    "df.head()"
   ]
  },
  {
   "cell_type": "markdown",
   "metadata": {},
   "source": [
    "## 1. Player Count\n",
    "---"
   ]
  },
  {
   "cell_type": "code",
   "execution_count": 2,
   "metadata": {},
   "outputs": [
    {
     "data": {
      "text/html": [
       "<div>\n",
       "<style scoped>\n",
       "    .dataframe tbody tr th:only-of-type {\n",
       "        vertical-align: middle;\n",
       "    }\n",
       "\n",
       "    .dataframe tbody tr th {\n",
       "        vertical-align: top;\n",
       "    }\n",
       "\n",
       "    .dataframe thead th {\n",
       "        text-align: right;\n",
       "    }\n",
       "</style>\n",
       "<table border=\"1\" class=\"dataframe\">\n",
       "  <thead>\n",
       "    <tr style=\"text-align: right;\">\n",
       "      <th></th>\n",
       "      <th>Total Players</th>\n",
       "    </tr>\n",
       "  </thead>\n",
       "  <tbody>\n",
       "    <tr>\n",
       "      <td>0</td>\n",
       "      <td>576</td>\n",
       "    </tr>\n",
       "  </tbody>\n",
       "</table>\n",
       "</div>"
      ],
      "text/plain": [
       "   Total Players\n",
       "0            576"
      ]
     },
     "execution_count": 2,
     "metadata": {},
     "output_type": "execute_result"
    }
   ],
   "source": [
    "# The data is at the 'Purchase ID' level, indicating a player could potentially\n",
    "# order multiple items, so there may duplicate rows of individual players \n",
    "# representing multiple item purchases\n",
    "\n",
    "# Create a data frame of unique players. \n",
    "player_demographics_df = df[['SN', 'Age', 'Gender']].drop_duplicates()\n",
    "\n",
    "# Find the unique number of total players\n",
    "total_players = player_demographics_df['SN'].nunique()\n",
    "\n",
    "# Load total_players into a data frame via Dictionary of lists\n",
    "total_players_df = pd.DataFrame({\"Total Players\" : [total_players]})\n",
    "total_players_df"
   ]
  },
  {
   "cell_type": "markdown",
   "metadata": {},
   "source": [
    "## 2. Purchasing Analysis (Total)\n",
    "---"
   ]
  },
  {
   "cell_type": "code",
   "execution_count": 3,
   "metadata": {},
   "outputs": [
    {
     "data": {
      "text/html": [
       "<style  type=\"text/css\" >\n",
       "</style><table id=\"T_13cdc112_868c_11ea_b8d9_24ee9a354a6b\" ><thead>    <tr>        <th class=\"blank level0\" ></th>        <th class=\"col_heading level0 col0\" >Number of Unique Items</th>        <th class=\"col_heading level0 col1\" >Average Price</th>        <th class=\"col_heading level0 col2\" >Number of Purchases</th>        <th class=\"col_heading level0 col3\" >Total Revenue</th>    </tr></thead><tbody>\n",
       "                <tr>\n",
       "                        <th id=\"T_13cdc112_868c_11ea_b8d9_24ee9a354a6blevel0_row0\" class=\"row_heading level0 row0\" >0</th>\n",
       "                        <td id=\"T_13cdc112_868c_11ea_b8d9_24ee9a354a6brow0_col0\" class=\"data row0 col0\" >179</td>\n",
       "                        <td id=\"T_13cdc112_868c_11ea_b8d9_24ee9a354a6brow0_col1\" class=\"data row0 col1\" >$3.05</td>\n",
       "                        <td id=\"T_13cdc112_868c_11ea_b8d9_24ee9a354a6brow0_col2\" class=\"data row0 col2\" >780</td>\n",
       "                        <td id=\"T_13cdc112_868c_11ea_b8d9_24ee9a354a6brow0_col3\" class=\"data row0 col3\" >$2379.77</td>\n",
       "            </tr>\n",
       "    </tbody></table>"
      ],
      "text/plain": [
       "<pandas.io.formats.style.Styler at 0x1a925b58c48>"
      ]
     },
     "execution_count": 3,
     "metadata": {},
     "output_type": "execute_result"
    }
   ],
   "source": [
    "# Find the Number of Unique Items\n",
    "unique_items = df['Item ID'].nunique()\n",
    "\n",
    "# Find the Average Price\n",
    "avg_price = df['Price'].mean()\n",
    "\n",
    "# Find the Number of Purchases\n",
    "purchases = df['Purchase ID'].nunique()\n",
    "\n",
    "# Find the Total Revenue\n",
    "total_revenue = df['Price'].sum()\n",
    "\n",
    "# Put answers from above into a DataFrame using a dictionary of lists\n",
    "purchasing_analysis_total_df = pd.DataFrame({\n",
    "    \"Number of Unique Items\" : [unique_items]\n",
    "    ,\"Average Price\" : [avg_price]\n",
    "    ,\"Number of Purchases\" : [purchases]\n",
    "    ,\"Total Revenue\" : [total_revenue]\n",
    "    })\n",
    "\n",
    "# Format data frame\n",
    "purchasing_analysis_total_df.style.format({\n",
    "    'Average Price' : '${:.2f}'\n",
    "    ,'Total Revenue' : '${:.2f}'\n",
    "    })"
   ]
  },
  {
   "cell_type": "markdown",
   "metadata": {},
   "source": [
    "## 3. Gender Demographics\n",
    "---"
   ]
  },
  {
   "cell_type": "code",
   "execution_count": 4,
   "metadata": {},
   "outputs": [
    {
     "data": {
      "text/html": [
       "<style  type=\"text/css\" >\n",
       "</style><table id=\"T_13d707b6_868c_11ea_ba00_24ee9a354a6b\" ><thead>    <tr>        <th class=\"blank level0\" ></th>        <th class=\"col_heading level0 col0\" >Total Count</th>        <th class=\"col_heading level0 col1\" >Percentage of Players</th>    </tr></thead><tbody>\n",
       "                <tr>\n",
       "                        <th id=\"T_13d707b6_868c_11ea_ba00_24ee9a354a6blevel0_row0\" class=\"row_heading level0 row0\" >Male</th>\n",
       "                        <td id=\"T_13d707b6_868c_11ea_ba00_24ee9a354a6brow0_col0\" class=\"data row0 col0\" >484</td>\n",
       "                        <td id=\"T_13d707b6_868c_11ea_ba00_24ee9a354a6brow0_col1\" class=\"data row0 col1\" >84.03%</td>\n",
       "            </tr>\n",
       "            <tr>\n",
       "                        <th id=\"T_13d707b6_868c_11ea_ba00_24ee9a354a6blevel0_row1\" class=\"row_heading level0 row1\" >Female</th>\n",
       "                        <td id=\"T_13d707b6_868c_11ea_ba00_24ee9a354a6brow1_col0\" class=\"data row1 col0\" >81</td>\n",
       "                        <td id=\"T_13d707b6_868c_11ea_ba00_24ee9a354a6brow1_col1\" class=\"data row1 col1\" >14.06%</td>\n",
       "            </tr>\n",
       "            <tr>\n",
       "                        <th id=\"T_13d707b6_868c_11ea_ba00_24ee9a354a6blevel0_row2\" class=\"row_heading level0 row2\" >Other / Non-Disclosed</th>\n",
       "                        <td id=\"T_13d707b6_868c_11ea_ba00_24ee9a354a6brow2_col0\" class=\"data row2 col0\" >11</td>\n",
       "                        <td id=\"T_13d707b6_868c_11ea_ba00_24ee9a354a6brow2_col1\" class=\"data row2 col1\" >1.91%</td>\n",
       "            </tr>\n",
       "    </tbody></table>"
      ],
      "text/plain": [
       "<pandas.io.formats.style.Styler at 0x1a925b83b48>"
      ]
     },
     "execution_count": 4,
     "metadata": {},
     "output_type": "execute_result"
    }
   ],
   "source": [
    "# Find the total count of genders\n",
    "total_count = player_demographics_df['Gender'].value_counts()\n",
    "\n",
    "# Find the percentage of players\n",
    "perc_of_players = player_demographics_df['Gender'].value_counts() / len(player_demographics_df)\n",
    "\n",
    "# Load series data into a Data Frame via dictionary of series\n",
    "gender_demographics_df = pd.DataFrame({\n",
    "    \"Total Count\" : total_count,\n",
    "    \"Percentage of Players\" : perc_of_players\n",
    "})\n",
    "\n",
    "# Format data frame\n",
    "gender_demographics_df.style.format({'Percentage of Players' : '{:.2%}'})"
   ]
  },
  {
   "cell_type": "code",
   "execution_count": 5,
   "metadata": {},
   "outputs": [
    {
     "data": {
      "image/png": "[encoded data removed]",
      "text/plain": [
       "<Figure size 1332x756 with 1 Axes>"
      ]
     },
     "metadata": {
      "needs_background": "light"
     },
     "output_type": "display_data"
    }
   ],
   "source": [
    "# Visualize Gender Analysis\n",
    "fig, ax = plt.subplots()\n",
    "\n",
    "# Set figure size\n",
    "fig.set_size_inches(18.5, 10.5, forward=True)\n",
    "\n",
    "# Plot bars\n",
    "ax.bar(gender_demographics_df.index[0], height=gender_demographics_df['Total Count'][0], color='tab:blue')\n",
    "ax.bar(gender_demographics_df.index[1], height=gender_demographics_df['Total Count'][1], color='tab:pink')\n",
    "ax.bar(gender_demographics_df.index[2], height=gender_demographics_df['Total Count'][2], color='tab:gray')\n",
    "\n",
    "# Add title\n",
    "ax.set_title(\"HOW MANY PLAYERS BOUGHT ITEMS BY GENDER?\", size=24, weight='bold')  # Add a title to the axes.\n",
    "\n",
    "# Add value labels to bars\n",
    "rects = ax.patches\n",
    "labels= list(gender_demographics_df['Total Count'])\n",
    "\n",
    "for rect, label in zip(rects, labels):\n",
    "    height = rect.get_height()\n",
    "    ax.text(rect.get_x() + rect.get_width() / 2, height + 2, label, ha='center', va='bottom')\n",
    "\n",
    "\n",
    "# Clean up graph\n",
    "ax.set_frame_on(False) # Remove frames \n",
    "ax.get_yaxis().set_visible(False) # Remove y-axis ticks\n",
    "\n",
    "# Display bar graph\n",
    "plt.show()\n",
    "\n",
    "# Exprt chart to an image\n",
    "fig.savefig('images/fig1_gender_analysis.png')"
   ]
  },
  {
   "cell_type": "markdown",
   "metadata": {},
   "source": [
    "\n",
    "## 4. Purchasing Analysis by Gender\n",
    "---"
   ]
  },
  {
   "cell_type": "code",
   "execution_count": 6,
   "metadata": {},
   "outputs": [
    {
     "data": {
      "text/html": [
       "<style  type=\"text/css\" >\n",
       "</style><table id=\"T_1430a4be_868c_11ea_b61f_24ee9a354a6b\" ><thead>    <tr>        <th class=\"blank level0\" ></th>        <th class=\"col_heading level0 col0\" >Purchase Count</th>        <th class=\"col_heading level0 col1\" >Average Purchase Price</th>        <th class=\"col_heading level0 col2\" >Total Purchase Value</th>        <th class=\"col_heading level0 col3\" >Avg Total Purchase per Person</th>    </tr>    <tr>        <th class=\"index_name level0\" >Gender</th>        <th class=\"blank\" ></th>        <th class=\"blank\" ></th>        <th class=\"blank\" ></th>        <th class=\"blank\" ></th>    </tr></thead><tbody>\n",
       "                <tr>\n",
       "                        <th id=\"T_1430a4be_868c_11ea_b61f_24ee9a354a6blevel0_row0\" class=\"row_heading level0 row0\" >Female</th>\n",
       "                        <td id=\"T_1430a4be_868c_11ea_b61f_24ee9a354a6brow0_col0\" class=\"data row0 col0\" >113</td>\n",
       "                        <td id=\"T_1430a4be_868c_11ea_b61f_24ee9a354a6brow0_col1\" class=\"data row0 col1\" >$3.20</td>\n",
       "                        <td id=\"T_1430a4be_868c_11ea_b61f_24ee9a354a6brow0_col2\" class=\"data row0 col2\" >$361.94</td>\n",
       "                        <td id=\"T_1430a4be_868c_11ea_b61f_24ee9a354a6brow0_col3\" class=\"data row0 col3\" >$4.47</td>\n",
       "            </tr>\n",
       "            <tr>\n",
       "                        <th id=\"T_1430a4be_868c_11ea_b61f_24ee9a354a6blevel0_row1\" class=\"row_heading level0 row1\" >Male</th>\n",
       "                        <td id=\"T_1430a4be_868c_11ea_b61f_24ee9a354a6brow1_col0\" class=\"data row1 col0\" >652</td>\n",
       "                        <td id=\"T_1430a4be_868c_11ea_b61f_24ee9a354a6brow1_col1\" class=\"data row1 col1\" >$3.02</td>\n",
       "                        <td id=\"T_1430a4be_868c_11ea_b61f_24ee9a354a6brow1_col2\" class=\"data row1 col2\" >$1967.64</td>\n",
       "                        <td id=\"T_1430a4be_868c_11ea_b61f_24ee9a354a6brow1_col3\" class=\"data row1 col3\" >$4.07</td>\n",
       "            </tr>\n",
       "            <tr>\n",
       "                        <th id=\"T_1430a4be_868c_11ea_b61f_24ee9a354a6blevel0_row2\" class=\"row_heading level0 row2\" >Other / Non-Disclosed</th>\n",
       "                        <td id=\"T_1430a4be_868c_11ea_b61f_24ee9a354a6brow2_col0\" class=\"data row2 col0\" >15</td>\n",
       "                        <td id=\"T_1430a4be_868c_11ea_b61f_24ee9a354a6brow2_col1\" class=\"data row2 col1\" >$3.35</td>\n",
       "                        <td id=\"T_1430a4be_868c_11ea_b61f_24ee9a354a6brow2_col2\" class=\"data row2 col2\" >$50.19</td>\n",
       "                        <td id=\"T_1430a4be_868c_11ea_b61f_24ee9a354a6brow2_col3\" class=\"data row2 col3\" >$4.56</td>\n",
       "            </tr>\n",
       "    </tbody></table>"
      ],
      "text/plain": [
       "<pandas.io.formats.style.Styler at 0x1a926714748>"
      ]
     },
     "execution_count": 6,
     "metadata": {},
     "output_type": "execute_result"
    }
   ],
   "source": [
    "# Find the Purchase Count by 'Gender'\n",
    "purch_count_df = df[['Gender','Purchase ID']] \\\n",
    "    .groupby(by=['Gender']).count() \\\n",
    "    .rename(columns={'Purchase ID':'Purchase Count'})\n",
    "\n",
    "# Find the Average Purchase Price by 'Gender'\n",
    "avg_purch_price_by_gender_df = df[['Gender', 'Price']] \\\n",
    "    .groupby(by='Gender').mean() \\\n",
    "    .rename(columns={\"Price\" : \"Average Purchase Price\"})\n",
    "\n",
    "# Find the Total Purchase Value by 'Gender'\n",
    "total_purch_value_by_gender_df = df[['Gender', 'Price']] \\\n",
    "    .groupby(by='Gender').sum() \\\n",
    "    .rename(columns={'Price':'Total Purchase Value'})\n",
    "\n",
    "# Find the Avg Total Purchase per Person\n",
    "avg_total_purch_per_person = total_purch_value_by_gender_df['Total Purchase Value'] / gender_demographics_df[\"Total Count\"]\n",
    "avg_total_purch_per_person_df = pd.DataFrame(avg_total_purch_per_person,columns=['Avg Total Purchase per Person'])\n",
    "\n",
    "# Concat all data frames into one summary dataframe\n",
    "purch_analysis_gender_df = pd.concat([purch_count_df \n",
    "                                     ,avg_purch_price_by_gender_df\n",
    "                                     ,total_purch_value_by_gender_df \n",
    "                                     ,avg_total_purch_per_person_df\n",
    "                                     ]\n",
    "                                     ,axis=1\n",
    "                                     )\n",
    "\n",
    "# Format the data frame\n",
    "purch_analysis_gender_df.style.format({\n",
    "            'Average Purchase Price' : '${:.2f}'\n",
    "            ,'Total Purchase Value' : '${:.2f}'\n",
    "            ,'Avg Total Purchase per Person' : '${:.2f}'\n",
    "})"
   ]
  },
  {
   "cell_type": "markdown",
   "metadata": {},
   "source": [
    "## 5. Age Demographics\n",
    "---"
   ]
  },
  {
   "cell_type": "code",
   "execution_count": 24,
   "metadata": {},
   "outputs": [
    {
     "data": {
      "text/html": [
       "<style  type=\"text/css\" >\n",
       "</style><table id=\"T_683685ca_868d_11ea_83e7_24ee9a354a6b\" ><thead>    <tr>        <th class=\"blank level0\" ></th>        <th class=\"col_heading level0 col0\" >Total Count</th>        <th class=\"col_heading level0 col1\" >Percentage of Players</th>    </tr></thead><tbody>\n",
       "                <tr>\n",
       "                        <th id=\"T_683685ca_868d_11ea_83e7_24ee9a354a6blevel0_row0\" class=\"row_heading level0 row0\" ><10</th>\n",
       "                        <td id=\"T_683685ca_868d_11ea_83e7_24ee9a354a6brow0_col0\" class=\"data row0 col0\" >17</td>\n",
       "                        <td id=\"T_683685ca_868d_11ea_83e7_24ee9a354a6brow0_col1\" class=\"data row0 col1\" >2.95%</td>\n",
       "            </tr>\n",
       "            <tr>\n",
       "                        <th id=\"T_683685ca_868d_11ea_83e7_24ee9a354a6blevel0_row1\" class=\"row_heading level0 row1\" >10-14</th>\n",
       "                        <td id=\"T_683685ca_868d_11ea_83e7_24ee9a354a6brow1_col0\" class=\"data row1 col0\" >22</td>\n",
       "                        <td id=\"T_683685ca_868d_11ea_83e7_24ee9a354a6brow1_col1\" class=\"data row1 col1\" >3.82%</td>\n",
       "            </tr>\n",
       "            <tr>\n",
       "                        <th id=\"T_683685ca_868d_11ea_83e7_24ee9a354a6blevel0_row2\" class=\"row_heading level0 row2\" >15-19</th>\n",
       "                        <td id=\"T_683685ca_868d_11ea_83e7_24ee9a354a6brow2_col0\" class=\"data row2 col0\" >107</td>\n",
       "                        <td id=\"T_683685ca_868d_11ea_83e7_24ee9a354a6brow2_col1\" class=\"data row2 col1\" >18.58%</td>\n",
       "            </tr>\n",
       "            <tr>\n",
       "                        <th id=\"T_683685ca_868d_11ea_83e7_24ee9a354a6blevel0_row3\" class=\"row_heading level0 row3\" >20-24</th>\n",
       "                        <td id=\"T_683685ca_868d_11ea_83e7_24ee9a354a6brow3_col0\" class=\"data row3 col0\" >258</td>\n",
       "                        <td id=\"T_683685ca_868d_11ea_83e7_24ee9a354a6brow3_col1\" class=\"data row3 col1\" >44.79%</td>\n",
       "            </tr>\n",
       "            <tr>\n",
       "                        <th id=\"T_683685ca_868d_11ea_83e7_24ee9a354a6blevel0_row4\" class=\"row_heading level0 row4\" >25-29</th>\n",
       "                        <td id=\"T_683685ca_868d_11ea_83e7_24ee9a354a6brow4_col0\" class=\"data row4 col0\" >77</td>\n",
       "                        <td id=\"T_683685ca_868d_11ea_83e7_24ee9a354a6brow4_col1\" class=\"data row4 col1\" >13.37%</td>\n",
       "            </tr>\n",
       "            <tr>\n",
       "                        <th id=\"T_683685ca_868d_11ea_83e7_24ee9a354a6blevel0_row5\" class=\"row_heading level0 row5\" >30-34</th>\n",
       "                        <td id=\"T_683685ca_868d_11ea_83e7_24ee9a354a6brow5_col0\" class=\"data row5 col0\" >52</td>\n",
       "                        <td id=\"T_683685ca_868d_11ea_83e7_24ee9a354a6brow5_col1\" class=\"data row5 col1\" >9.03%</td>\n",
       "            </tr>\n",
       "            <tr>\n",
       "                        <th id=\"T_683685ca_868d_11ea_83e7_24ee9a354a6blevel0_row6\" class=\"row_heading level0 row6\" >35-39</th>\n",
       "                        <td id=\"T_683685ca_868d_11ea_83e7_24ee9a354a6brow6_col0\" class=\"data row6 col0\" >31</td>\n",
       "                        <td id=\"T_683685ca_868d_11ea_83e7_24ee9a354a6brow6_col1\" class=\"data row6 col1\" >5.38%</td>\n",
       "            </tr>\n",
       "            <tr>\n",
       "                        <th id=\"T_683685ca_868d_11ea_83e7_24ee9a354a6blevel0_row7\" class=\"row_heading level0 row7\" >40+</th>\n",
       "                        <td id=\"T_683685ca_868d_11ea_83e7_24ee9a354a6brow7_col0\" class=\"data row7 col0\" >12</td>\n",
       "                        <td id=\"T_683685ca_868d_11ea_83e7_24ee9a354a6brow7_col1\" class=\"data row7 col1\" >2.08%</td>\n",
       "            </tr>\n",
       "    </tbody></table>"
      ],
      "text/plain": [
       "<pandas.io.formats.style.Styler at 0x1a926a9d3c8>"
      ]
     },
     "execution_count": 24,
     "metadata": {},
     "output_type": "execute_result"
    }
   ],
   "source": [
    "# Setup bins and labels for grouping age ranges\n",
    "bins = [0,10,15,20,25,30,35,40, float('inf')]\n",
    "age_range_labels = ['<10', '10-14', '15-19', '20-24', '25-29', '30-34', '35-39', '40+']\n",
    "\n",
    "# Create a series of binned ages\n",
    "total_count_bins = pd.cut(player_demographics_df['Age']\n",
    "                          ,bins=bins\n",
    "                          ,labels=age_range_labels\n",
    "                          ,right=False\n",
    "                          ) \\\n",
    "                          .value_counts()\n",
    "\n",
    "# Find the Total Count of players\n",
    "age_demo_df = pd.DataFrame(total_count_bins) \\\n",
    "    .sort_index() \\\n",
    "    .rename(columns={'Age': 'Total Count'})\n",
    "\n",
    "# Find the percentage of players in bins (total count / percentage of players)\n",
    "age_demo_df['Percentage of Players'] = (age_demo_df / len(player_demographics_df))\n",
    "\n",
    "# Format dataframe\n",
    "age_demo_df.style.format({'Percentage of Players' : '{:.2%}'})"
   ]
  },
  {
   "cell_type": "code",
   "execution_count": 25,
   "metadata": {},
   "outputs": [
    {
     "data": {
      "image/png": "[encoded data removed]",
      "text/plain": [
       "<Figure size 1332x756 with 1 Axes>"
      ]
     },
     "metadata": {
      "needs_background": "light"
     },
     "output_type": "display_data"
    }
   ],
   "source": [
    "# Visualize Age Analysis\n",
    "fig, ax = plt.subplots()\n",
    "\n",
    "fig.set_size_inches(18.5, 10.5, forward=True)\n",
    "\n",
    "# Plot bars\n",
    "ax.bar(age_demo_df.index, height=age_demo_df['Total Count'], color='tab:blue')\n",
    "\n",
    "# Set labels\n",
    "# ax.set_xlabel(xlabel='GENDER', size=12) # Add x-axis label\n",
    "# ax.set_ylabel(ylabel='# OF PLAYERS', size=12) # Add y-axis label\n",
    "ax.set_title(\"HOW MANY PLAYERS BOUGHT ITEMS BY AGE?\", size=24, weight='bold')  # Add a title to the axes.\n",
    "\n",
    "# Clean up graph\n",
    "ax.set_frame_on(False) # Remove frames to reduce ink\n",
    "ax.get_yaxis().set_visible(False)\n",
    "\n",
    "# Label the bars with their corresponding values\n",
    "rects = ax.patches\n",
    "labels = list(age_demo_df['Total Count'])\n",
    "\n",
    "for rect, label in zip(rects, labels):\n",
    "    height = rect.get_height()\n",
    "    ax.text(rect.get_x() + rect.get_width() / 2, height + 2, label, ha='center', va='bottom')\n",
    "    \n",
    "    \n",
    "# Display bar graph\n",
    "plt.show()\n",
    "\n",
    "# Exprt chart to an image\n",
    "fig.savefig('images/fig2_age_analysis.png')"
   ]
  },
  {
   "cell_type": "markdown",
   "metadata": {},
   "source": [
    "## 6. Purchasing Analysis (Age)\n",
    "---"
   ]
  },
  {
   "cell_type": "code",
   "execution_count": 28,
   "metadata": {},
   "outputs": [
    {
     "data": {
      "text/html": [
       "<style  type=\"text/css\" >\n",
       "</style><table id=\"T_842164d0_868d_11ea_9eed_24ee9a354a6b\" ><thead>    <tr>        <th class=\"blank level0\" ></th>        <th class=\"col_heading level0 col0\" >Purchase Count</th>        <th class=\"col_heading level0 col1\" >Avg Purchase Price</th>        <th class=\"col_heading level0 col2\" >Avg Total Purchase per Person</th>    </tr>    <tr>        <th class=\"index_name level0\" >Age Range</th>        <th class=\"blank\" ></th>        <th class=\"blank\" ></th>        <th class=\"blank\" ></th>    </tr></thead><tbody>\n",
       "                <tr>\n",
       "                        <th id=\"T_842164d0_868d_11ea_9eed_24ee9a354a6blevel0_row0\" class=\"row_heading level0 row0\" ><10</th>\n",
       "                        <td id=\"T_842164d0_868d_11ea_9eed_24ee9a354a6brow0_col0\" class=\"data row0 col0\" >23</td>\n",
       "                        <td id=\"T_842164d0_868d_11ea_9eed_24ee9a354a6brow0_col1\" class=\"data row0 col1\" >$3.35</td>\n",
       "                        <td id=\"T_842164d0_868d_11ea_9eed_24ee9a354a6brow0_col2\" class=\"data row0 col2\" >$4.54</td>\n",
       "            </tr>\n",
       "            <tr>\n",
       "                        <th id=\"T_842164d0_868d_11ea_9eed_24ee9a354a6blevel0_row1\" class=\"row_heading level0 row1\" >10-14</th>\n",
       "                        <td id=\"T_842164d0_868d_11ea_9eed_24ee9a354a6brow1_col0\" class=\"data row1 col0\" >28</td>\n",
       "                        <td id=\"T_842164d0_868d_11ea_9eed_24ee9a354a6brow1_col1\" class=\"data row1 col1\" >$2.96</td>\n",
       "                        <td id=\"T_842164d0_868d_11ea_9eed_24ee9a354a6brow1_col2\" class=\"data row1 col2\" >$3.76</td>\n",
       "            </tr>\n",
       "            <tr>\n",
       "                        <th id=\"T_842164d0_868d_11ea_9eed_24ee9a354a6blevel0_row2\" class=\"row_heading level0 row2\" >15-19</th>\n",
       "                        <td id=\"T_842164d0_868d_11ea_9eed_24ee9a354a6brow2_col0\" class=\"data row2 col0\" >136</td>\n",
       "                        <td id=\"T_842164d0_868d_11ea_9eed_24ee9a354a6brow2_col1\" class=\"data row2 col1\" >$3.04</td>\n",
       "                        <td id=\"T_842164d0_868d_11ea_9eed_24ee9a354a6brow2_col2\" class=\"data row2 col2\" >$3.86</td>\n",
       "            </tr>\n",
       "            <tr>\n",
       "                        <th id=\"T_842164d0_868d_11ea_9eed_24ee9a354a6blevel0_row3\" class=\"row_heading level0 row3\" >20-24</th>\n",
       "                        <td id=\"T_842164d0_868d_11ea_9eed_24ee9a354a6brow3_col0\" class=\"data row3 col0\" >365</td>\n",
       "                        <td id=\"T_842164d0_868d_11ea_9eed_24ee9a354a6brow3_col1\" class=\"data row3 col1\" >$3.05</td>\n",
       "                        <td id=\"T_842164d0_868d_11ea_9eed_24ee9a354a6brow3_col2\" class=\"data row3 col2\" >$4.32</td>\n",
       "            </tr>\n",
       "            <tr>\n",
       "                        <th id=\"T_842164d0_868d_11ea_9eed_24ee9a354a6blevel0_row4\" class=\"row_heading level0 row4\" >25-29</th>\n",
       "                        <td id=\"T_842164d0_868d_11ea_9eed_24ee9a354a6brow4_col0\" class=\"data row4 col0\" >101</td>\n",
       "                        <td id=\"T_842164d0_868d_11ea_9eed_24ee9a354a6brow4_col1\" class=\"data row4 col1\" >$2.90</td>\n",
       "                        <td id=\"T_842164d0_868d_11ea_9eed_24ee9a354a6brow4_col2\" class=\"data row4 col2\" >$3.81</td>\n",
       "            </tr>\n",
       "            <tr>\n",
       "                        <th id=\"T_842164d0_868d_11ea_9eed_24ee9a354a6blevel0_row5\" class=\"row_heading level0 row5\" >30-34</th>\n",
       "                        <td id=\"T_842164d0_868d_11ea_9eed_24ee9a354a6brow5_col0\" class=\"data row5 col0\" >73</td>\n",
       "                        <td id=\"T_842164d0_868d_11ea_9eed_24ee9a354a6brow5_col1\" class=\"data row5 col1\" >$2.93</td>\n",
       "                        <td id=\"T_842164d0_868d_11ea_9eed_24ee9a354a6brow5_col2\" class=\"data row5 col2\" >$4.12</td>\n",
       "            </tr>\n",
       "            <tr>\n",
       "                        <th id=\"T_842164d0_868d_11ea_9eed_24ee9a354a6blevel0_row6\" class=\"row_heading level0 row6\" >35-39</th>\n",
       "                        <td id=\"T_842164d0_868d_11ea_9eed_24ee9a354a6brow6_col0\" class=\"data row6 col0\" >41</td>\n",
       "                        <td id=\"T_842164d0_868d_11ea_9eed_24ee9a354a6brow6_col1\" class=\"data row6 col1\" >$3.60</td>\n",
       "                        <td id=\"T_842164d0_868d_11ea_9eed_24ee9a354a6brow6_col2\" class=\"data row6 col2\" >$4.76</td>\n",
       "            </tr>\n",
       "            <tr>\n",
       "                        <th id=\"T_842164d0_868d_11ea_9eed_24ee9a354a6blevel0_row7\" class=\"row_heading level0 row7\" >40+</th>\n",
       "                        <td id=\"T_842164d0_868d_11ea_9eed_24ee9a354a6brow7_col0\" class=\"data row7 col0\" >13</td>\n",
       "                        <td id=\"T_842164d0_868d_11ea_9eed_24ee9a354a6brow7_col1\" class=\"data row7 col1\" >$2.94</td>\n",
       "                        <td id=\"T_842164d0_868d_11ea_9eed_24ee9a354a6brow7_col2\" class=\"data row7 col2\" >$3.19</td>\n",
       "            </tr>\n",
       "    </tbody></table>"
      ],
      "text/plain": [
       "<pandas.io.formats.style.Styler at 0x1a926a80b48>"
      ]
     },
     "execution_count": 28,
     "metadata": {},
     "output_type": "execute_result"
    }
   ],
   "source": [
    "# Add 'Age Range' to original data frame\n",
    "age_range = pd.cut(df['Age'], bins=bins, labels=age_range_labels, right=False)\n",
    "age_range_df = df\n",
    "age_range_df['Age Range'] = age_range\n",
    "\n",
    "# Find the Purchase Count by 'Age Range'\n",
    "purch_count_by_age_df = age_range_df[['Age Range', 'Purchase ID']] \\\n",
    "    .groupby(by=['Age Range']).count() \\\n",
    "    .rename(columns={'Purchase ID' : 'Purchase Count'})\n",
    "\n",
    "# Find the Average Purchase Price by 'Age Range'\n",
    "avg_purch_price_by_age_df = age_range_df[['Age Range', 'Price']] \\\n",
    "    .groupby(by=['Age Range']).mean() \\\n",
    "    .rename(columns={'Price' : 'Avg Purchase Price'})\n",
    "\n",
    "# Find the Total Purchase Value by 'Age Range'\n",
    "total_purch_value_by_age_df = age_range_df[['Age Range', 'Price']] \\\n",
    "    .groupby(by=['Age Range']).sum() \\\n",
    "    .rename(columns={'Price' : 'Total Purchase Value'}, inplace=True)\n",
    "\n",
    "# Find the Avg Total Purchase per Person\n",
    "avg_total_purch_per_person_by_age_df = age_range_df[['Age Range', 'SN','Price']] \\\n",
    "    .groupby(by=['Age Range', 'SN']).sum() \\\n",
    "    .groupby(by=['Age Range']).mean() \\\n",
    "    .rename(columns={'Price' : 'Avg Total Purchase per Person'})\n",
    "\n",
    "# Put all answers into a data frame\n",
    "purch_analysis_age_df = pd.concat([purch_count_by_age_df\n",
    "                                   ,avg_purch_price_by_age_df \n",
    "                                   ,total_purch_value_by_age_df \n",
    "                                   ,avg_total_purch_per_person_by_age_df\n",
    "                                   ] \n",
    "                                   ,axis=1\n",
    "                                   )\n",
    "\n",
    "# Format data frame\n",
    "purch_analysis_age_df.style.format({\n",
    "    'Avg Purchase Price' : '${:.2f}'\n",
    "    ,'Total Purchase Value' : '${:.2f}'\n",
    "    ,'Avg Total Purchase per Person' : '${:.2f}'\n",
    "})"
   ]
  },
  {
   "cell_type": "code",
   "execution_count": 29,
   "metadata": {},
   "outputs": [
    {
     "data": {
      "image/png": "[encoded data removed]",
      "text/plain": [
       "<Figure size 1332x756 with 3 Axes>"
      ]
     },
     "metadata": {
      "needs_background": "light"
     },
     "output_type": "display_data"
    }
   ],
   "source": [
    "purch_analysis_age_df.sort_index(ascending=False, inplace=True)\n",
    "\n",
    "# Visualize Age Analysis\n",
    "fig, (ax1, ax2, ax3) = plt.subplots(1,3, sharey=True)\n",
    "\n",
    "# Set size of figure\n",
    "fig.set_size_inches(18.5, 10.5, forward=True)\n",
    "fig.suptitle('PURCHASING ANALYSIS BY AGE', fontsize=24, weight='bold')\n",
    "\n",
    "# Plot bars\n",
    "ax1.barh(purch_analysis_age_df.index, width=purch_analysis_age_df['Purchase Count'])\n",
    "ax2.barh(purch_analysis_age_df.index, width=purch_analysis_age_df['Avg Purchase Price'])\n",
    "ax3.barh(purch_analysis_age_df.index, width=purch_analysis_age_df['Avg Total Purchase per Person'])\n",
    "\n",
    "# Set labels\n",
    "# ax1.set_title(\"HOW MANY PLAYERS BOUGHT ITEM BY AGE?\", size=12, weight='bold')  # Add a title to the axes.\n",
    "ax1.set_ylabel(ylabel='AGE RANGE', size=12) # Add y-axis label\n",
    "ax1.set_xlabel(xlabel='# OF PLAYERS', size=12) # Add x-axis label\n",
    "ax2.set_xlabel(xlabel='AVG PURCHASE PRICE', size=12)\n",
    "ax3.set_xlabel(xlabel='AVG TOTAL PURCHASE PER PERSON', size=12)\n",
    "\n",
    "# Clean up graph\n",
    "ax1.set_frame_on(False) # Remove frames to reduce ink\n",
    "ax2.set_frame_on(False) # Remove frames to reduce ink\n",
    "ax3.set_frame_on(False) # Remove frames to reduce ink\n",
    "\n",
    "# Display bar graph\n",
    "plt.show()\n",
    "\n",
    "# Exprt chart to an image\n",
    "fig.savefig('images/fig3_age_analysis_2.png')"
   ]
  },
  {
   "cell_type": "markdown",
   "metadata": {},
   "source": [
    "## 7. TOP SPENDERS\n",
    "---"
   ]
  },
  {
   "cell_type": "code",
   "execution_count": 30,
   "metadata": {},
   "outputs": [
    {
     "data": {
      "text/html": [
       "<style  type=\"text/css\" >\n",
       "</style><table id=\"T_91a99cec_868d_11ea_b267_24ee9a354a6b\" ><thead>    <tr>        <th class=\"blank level0\" ></th>        <th class=\"col_heading level0 col0\" >Purchase Count</th>        <th class=\"col_heading level0 col1\" >Avg Purchase Price</th>        <th class=\"col_heading level0 col2\" >Total Purchase Value</th>    </tr>    <tr>        <th class=\"index_name level0\" >SN</th>        <th class=\"blank\" ></th>        <th class=\"blank\" ></th>        <th class=\"blank\" ></th>    </tr></thead><tbody>\n",
       "                <tr>\n",
       "                        <th id=\"T_91a99cec_868d_11ea_b267_24ee9a354a6blevel0_row0\" class=\"row_heading level0 row0\" >Lisosia93</th>\n",
       "                        <td id=\"T_91a99cec_868d_11ea_b267_24ee9a354a6brow0_col0\" class=\"data row0 col0\" >5</td>\n",
       "                        <td id=\"T_91a99cec_868d_11ea_b267_24ee9a354a6brow0_col1\" class=\"data row0 col1\" >$3.79</td>\n",
       "                        <td id=\"T_91a99cec_868d_11ea_b267_24ee9a354a6brow0_col2\" class=\"data row0 col2\" >$18.96</td>\n",
       "            </tr>\n",
       "            <tr>\n",
       "                        <th id=\"T_91a99cec_868d_11ea_b267_24ee9a354a6blevel0_row1\" class=\"row_heading level0 row1\" >Idastidru52</th>\n",
       "                        <td id=\"T_91a99cec_868d_11ea_b267_24ee9a354a6brow1_col0\" class=\"data row1 col0\" >4</td>\n",
       "                        <td id=\"T_91a99cec_868d_11ea_b267_24ee9a354a6brow1_col1\" class=\"data row1 col1\" >$3.86</td>\n",
       "                        <td id=\"T_91a99cec_868d_11ea_b267_24ee9a354a6brow1_col2\" class=\"data row1 col2\" >$15.45</td>\n",
       "            </tr>\n",
       "            <tr>\n",
       "                        <th id=\"T_91a99cec_868d_11ea_b267_24ee9a354a6blevel0_row2\" class=\"row_heading level0 row2\" >Chamjask73</th>\n",
       "                        <td id=\"T_91a99cec_868d_11ea_b267_24ee9a354a6brow2_col0\" class=\"data row2 col0\" >3</td>\n",
       "                        <td id=\"T_91a99cec_868d_11ea_b267_24ee9a354a6brow2_col1\" class=\"data row2 col1\" >$4.61</td>\n",
       "                        <td id=\"T_91a99cec_868d_11ea_b267_24ee9a354a6brow2_col2\" class=\"data row2 col2\" >$13.83</td>\n",
       "            </tr>\n",
       "            <tr>\n",
       "                        <th id=\"T_91a99cec_868d_11ea_b267_24ee9a354a6blevel0_row3\" class=\"row_heading level0 row3\" >Iral74</th>\n",
       "                        <td id=\"T_91a99cec_868d_11ea_b267_24ee9a354a6brow3_col0\" class=\"data row3 col0\" >4</td>\n",
       "                        <td id=\"T_91a99cec_868d_11ea_b267_24ee9a354a6brow3_col1\" class=\"data row3 col1\" >$3.40</td>\n",
       "                        <td id=\"T_91a99cec_868d_11ea_b267_24ee9a354a6brow3_col2\" class=\"data row3 col2\" >$13.62</td>\n",
       "            </tr>\n",
       "            <tr>\n",
       "                        <th id=\"T_91a99cec_868d_11ea_b267_24ee9a354a6blevel0_row4\" class=\"row_heading level0 row4\" >Iskadarya95</th>\n",
       "                        <td id=\"T_91a99cec_868d_11ea_b267_24ee9a354a6brow4_col0\" class=\"data row4 col0\" >3</td>\n",
       "                        <td id=\"T_91a99cec_868d_11ea_b267_24ee9a354a6brow4_col1\" class=\"data row4 col1\" >$4.37</td>\n",
       "                        <td id=\"T_91a99cec_868d_11ea_b267_24ee9a354a6brow4_col2\" class=\"data row4 col2\" >$13.10</td>\n",
       "            </tr>\n",
       "            <tr>\n",
       "                        <th id=\"T_91a99cec_868d_11ea_b267_24ee9a354a6blevel0_row5\" class=\"row_heading level0 row5\" >Ilarin91</th>\n",
       "                        <td id=\"T_91a99cec_868d_11ea_b267_24ee9a354a6brow5_col0\" class=\"data row5 col0\" >3</td>\n",
       "                        <td id=\"T_91a99cec_868d_11ea_b267_24ee9a354a6brow5_col1\" class=\"data row5 col1\" >$4.23</td>\n",
       "                        <td id=\"T_91a99cec_868d_11ea_b267_24ee9a354a6brow5_col2\" class=\"data row5 col2\" >$12.70</td>\n",
       "            </tr>\n",
       "            <tr>\n",
       "                        <th id=\"T_91a99cec_868d_11ea_b267_24ee9a354a6blevel0_row6\" class=\"row_heading level0 row6\" >Ialallo29</th>\n",
       "                        <td id=\"T_91a99cec_868d_11ea_b267_24ee9a354a6brow6_col0\" class=\"data row6 col0\" >3</td>\n",
       "                        <td id=\"T_91a99cec_868d_11ea_b267_24ee9a354a6brow6_col1\" class=\"data row6 col1\" >$3.95</td>\n",
       "                        <td id=\"T_91a99cec_868d_11ea_b267_24ee9a354a6brow6_col2\" class=\"data row6 col2\" >$11.84</td>\n",
       "            </tr>\n",
       "            <tr>\n",
       "                        <th id=\"T_91a99cec_868d_11ea_b267_24ee9a354a6blevel0_row7\" class=\"row_heading level0 row7\" >Tyidaim51</th>\n",
       "                        <td id=\"T_91a99cec_868d_11ea_b267_24ee9a354a6brow7_col0\" class=\"data row7 col0\" >3</td>\n",
       "                        <td id=\"T_91a99cec_868d_11ea_b267_24ee9a354a6brow7_col1\" class=\"data row7 col1\" >$3.94</td>\n",
       "                        <td id=\"T_91a99cec_868d_11ea_b267_24ee9a354a6brow7_col2\" class=\"data row7 col2\" >$11.83</td>\n",
       "            </tr>\n",
       "            <tr>\n",
       "                        <th id=\"T_91a99cec_868d_11ea_b267_24ee9a354a6blevel0_row8\" class=\"row_heading level0 row8\" >Lassilsala30</th>\n",
       "                        <td id=\"T_91a99cec_868d_11ea_b267_24ee9a354a6brow8_col0\" class=\"data row8 col0\" >3</td>\n",
       "                        <td id=\"T_91a99cec_868d_11ea_b267_24ee9a354a6brow8_col1\" class=\"data row8 col1\" >$3.84</td>\n",
       "                        <td id=\"T_91a99cec_868d_11ea_b267_24ee9a354a6brow8_col2\" class=\"data row8 col2\" >$11.51</td>\n",
       "            </tr>\n",
       "            <tr>\n",
       "                        <th id=\"T_91a99cec_868d_11ea_b267_24ee9a354a6blevel0_row9\" class=\"row_heading level0 row9\" >Chadolyla44</th>\n",
       "                        <td id=\"T_91a99cec_868d_11ea_b267_24ee9a354a6brow9_col0\" class=\"data row9 col0\" >3</td>\n",
       "                        <td id=\"T_91a99cec_868d_11ea_b267_24ee9a354a6brow9_col1\" class=\"data row9 col1\" >$3.82</td>\n",
       "                        <td id=\"T_91a99cec_868d_11ea_b267_24ee9a354a6brow9_col2\" class=\"data row9 col2\" >$11.46</td>\n",
       "            </tr>\n",
       "    </tbody></table>"
      ],
      "text/plain": [
       "<pandas.io.formats.style.Styler at 0x1a926911c08>"
      ]
     },
     "execution_count": 30,
     "metadata": {},
     "output_type": "execute_result"
    }
   ],
   "source": [
    "# Find the Purchase Count by 'SN'\n",
    "purch_count_by_sn_df = df[['SN', 'Purchase ID']] \\\n",
    "    .groupby(by=['SN']).count() \\\n",
    "    .rename(columns={'Purchase ID' : 'Purchase Count'})\n",
    "\n",
    "# Find the Avg Purchase Price by 'SN'\n",
    "avg_price_by_sn_df = df[['SN', 'Price']] \\\n",
    "    .groupby(by=['SN']).mean() \\\n",
    "    .rename(columns={'Price' : 'Avg Purchase Price'})\n",
    "\n",
    "# Find the Total Purchase Value by 'SN'\n",
    "total_purch_value_by_sn_df = df[['SN', 'Price']] \\\n",
    "    .groupby(by=['SN']).sum() \\\n",
    "    .rename(columns={'Price' : 'Total Purchase Value'})\n",
    "\n",
    "# Load data into summary data frame\n",
    "top_spender_df = pd.concat([purch_count_by_sn_df\n",
    "                            ,avg_price_by_sn_df\n",
    "                            ,total_purch_value_by_sn_df\n",
    "                            ]\n",
    "                            ,axis=1\n",
    "                            )\n",
    "\n",
    "# Sort data frame on 'Total Purchase Value' in descending order\n",
    "top_spender_df.sort_values(by=['Total Purchase Value'], ascending=False, inplace=True)\n",
    "\n",
    "# Format data frame\n",
    "top_spender_df.head(10).style.format({\n",
    "    'Avg Purchase Price' : '${:0.2f}'\n",
    "    ,'Total Purchase Value' : '${:0.2f}'\n",
    "})"
   ]
  },
  {
   "cell_type": "code",
   "execution_count": 31,
   "metadata": {},
   "outputs": [
    {
     "data": {
      "image/png": "[encoded data removed]",
      "text/plain": [
       "<Figure size 1332x756 with 1 Axes>"
      ]
     },
     "metadata": {
      "needs_background": "light"
     },
     "output_type": "display_data"
    }
   ],
   "source": [
    "top_10_spenders_df = top_spender_df.head(10).sort_values(by='Total Purchase Value')\n",
    "\n",
    "# Visualize Age Analysis\n",
    "fig,ax = plt.subplots()\n",
    "\n",
    "# Set size of figure\n",
    "fig.set_size_inches(18.5, 10.5, forward=True)\n",
    "fig.suptitle('WHO SPENT THE MOST?', fontsize=24, weight='bold')\n",
    "\n",
    "# Plot bars\n",
    "ax.barh(top_10_spenders_df.index, width=top_10_spenders_df['Total Purchase Value'])\n",
    "\n",
    "# Set axis labels\n",
    "# ax.set_ylabel(ylabel='SN', size=12) # Add y-axis label\n",
    "ax.set_xlabel(xlabel='Total Purchase Value', size=12) # Add x-axis label\n",
    "\n",
    "\n",
    "# Label the bars with their corresponding values\n",
    "rects = ax.patches\n",
    "labels = list(top_10_spenders_df['Total Purchase Value'])\n",
    "for rect, label in zip(rects, labels):\n",
    "    width = rect.get_width()\n",
    "    ax.text(width + .25, rect.get_y() + rect.get_height() / 2, f'$ {round(label,2)}')\n",
    "    \n",
    "# Clean up graph\n",
    "ax.set_frame_on(False) # Remove frames to reduce ink\n",
    "ax.get_xaxis().set_visible(False)\n",
    "\n",
    "\n",
    "# Display bar graph\n",
    "plt.show()\n",
    "\n",
    "# Export chart to an image\n",
    "fig.savefig('images/fig4_top_spenders.png')"
   ]
  },
  {
   "cell_type": "markdown",
   "metadata": {},
   "source": [
    "## 8. MOST POPULAR ITEMS\n",
    "---"
   ]
  },
  {
   "cell_type": "code",
   "execution_count": 32,
   "metadata": {},
   "outputs": [
    {
     "data": {
      "text/html": [
       "<style  type=\"text/css\" >\n",
       "</style><table id=\"T_93a9aee6_868d_11ea_92b5_24ee9a354a6b\" ><thead>    <tr>        <th class=\"blank\" ></th>        <th class=\"blank level0\" ></th>        <th class=\"col_heading level0 col0\" >Purchase Count</th>        <th class=\"col_heading level0 col1\" >Item Price</th>        <th class=\"col_heading level0 col2\" >Total Purchase Value</th>    </tr>    <tr>        <th class=\"index_name level0\" >Item ID</th>        <th class=\"index_name level1\" >Item Name</th>        <th class=\"blank\" ></th>        <th class=\"blank\" ></th>        <th class=\"blank\" ></th>    </tr></thead><tbody>\n",
       "                <tr>\n",
       "                        <th id=\"T_93a9aee6_868d_11ea_92b5_24ee9a354a6blevel0_row0\" class=\"row_heading level0 row0\" >92</th>\n",
       "                        <th id=\"T_93a9aee6_868d_11ea_92b5_24ee9a354a6blevel1_row0\" class=\"row_heading level1 row0\" >Final Critic</th>\n",
       "                        <td id=\"T_93a9aee6_868d_11ea_92b5_24ee9a354a6brow0_col0\" class=\"data row0 col0\" >13</td>\n",
       "                        <td id=\"T_93a9aee6_868d_11ea_92b5_24ee9a354a6brow0_col1\" class=\"data row0 col1\" >$4.88</td>\n",
       "                        <td id=\"T_93a9aee6_868d_11ea_92b5_24ee9a354a6brow0_col2\" class=\"data row0 col2\" >$59.99</td>\n",
       "            </tr>\n",
       "            <tr>\n",
       "                        <th id=\"T_93a9aee6_868d_11ea_92b5_24ee9a354a6blevel0_row1\" class=\"row_heading level0 row1\" >178</th>\n",
       "                        <th id=\"T_93a9aee6_868d_11ea_92b5_24ee9a354a6blevel1_row1\" class=\"row_heading level1 row1\" >Oathbreaker, Last Hope of the Breaking Storm</th>\n",
       "                        <td id=\"T_93a9aee6_868d_11ea_92b5_24ee9a354a6brow1_col0\" class=\"data row1 col0\" >12</td>\n",
       "                        <td id=\"T_93a9aee6_868d_11ea_92b5_24ee9a354a6brow1_col1\" class=\"data row1 col1\" >$4.23</td>\n",
       "                        <td id=\"T_93a9aee6_868d_11ea_92b5_24ee9a354a6brow1_col2\" class=\"data row1 col2\" >$50.76</td>\n",
       "            </tr>\n",
       "            <tr>\n",
       "                        <th id=\"T_93a9aee6_868d_11ea_92b5_24ee9a354a6blevel0_row2\" class=\"row_heading level0 row2\" >145</th>\n",
       "                        <th id=\"T_93a9aee6_868d_11ea_92b5_24ee9a354a6blevel1_row2\" class=\"row_heading level1 row2\" >Fiery Glass Crusader</th>\n",
       "                        <td id=\"T_93a9aee6_868d_11ea_92b5_24ee9a354a6brow2_col0\" class=\"data row2 col0\" >9</td>\n",
       "                        <td id=\"T_93a9aee6_868d_11ea_92b5_24ee9a354a6brow2_col1\" class=\"data row2 col1\" >$4.58</td>\n",
       "                        <td id=\"T_93a9aee6_868d_11ea_92b5_24ee9a354a6brow2_col2\" class=\"data row2 col2\" >$41.22</td>\n",
       "            </tr>\n",
       "            <tr>\n",
       "                        <th id=\"T_93a9aee6_868d_11ea_92b5_24ee9a354a6blevel0_row3\" class=\"row_heading level0 row3\" >132</th>\n",
       "                        <th id=\"T_93a9aee6_868d_11ea_92b5_24ee9a354a6blevel1_row3\" class=\"row_heading level1 row3\" >Persuasion</th>\n",
       "                        <td id=\"T_93a9aee6_868d_11ea_92b5_24ee9a354a6brow3_col0\" class=\"data row3 col0\" >9</td>\n",
       "                        <td id=\"T_93a9aee6_868d_11ea_92b5_24ee9a354a6brow3_col1\" class=\"data row3 col1\" >$3.33</td>\n",
       "                        <td id=\"T_93a9aee6_868d_11ea_92b5_24ee9a354a6brow3_col2\" class=\"data row3 col2\" >$28.99</td>\n",
       "            </tr>\n",
       "            <tr>\n",
       "                        <th id=\"T_93a9aee6_868d_11ea_92b5_24ee9a354a6blevel0_row4\" class=\"row_heading level0 row4\" >108</th>\n",
       "                        <th id=\"T_93a9aee6_868d_11ea_92b5_24ee9a354a6blevel1_row4\" class=\"row_heading level1 row4\" >Extraction, Quickblade Of Trembling Hands</th>\n",
       "                        <td id=\"T_93a9aee6_868d_11ea_92b5_24ee9a354a6brow4_col0\" class=\"data row4 col0\" >9</td>\n",
       "                        <td id=\"T_93a9aee6_868d_11ea_92b5_24ee9a354a6brow4_col1\" class=\"data row4 col1\" >$3.53</td>\n",
       "                        <td id=\"T_93a9aee6_868d_11ea_92b5_24ee9a354a6brow4_col2\" class=\"data row4 col2\" >$31.77</td>\n",
       "            </tr>\n",
       "            <tr>\n",
       "                        <th id=\"T_93a9aee6_868d_11ea_92b5_24ee9a354a6blevel0_row5\" class=\"row_heading level0 row5\" >82</th>\n",
       "                        <th id=\"T_93a9aee6_868d_11ea_92b5_24ee9a354a6blevel1_row5\" class=\"row_heading level1 row5\" >Nirvana</th>\n",
       "                        <td id=\"T_93a9aee6_868d_11ea_92b5_24ee9a354a6brow5_col0\" class=\"data row5 col0\" >9</td>\n",
       "                        <td id=\"T_93a9aee6_868d_11ea_92b5_24ee9a354a6brow5_col1\" class=\"data row5 col1\" >$4.90</td>\n",
       "                        <td id=\"T_93a9aee6_868d_11ea_92b5_24ee9a354a6brow5_col2\" class=\"data row5 col2\" >$44.10</td>\n",
       "            </tr>\n",
       "            <tr>\n",
       "                        <th id=\"T_93a9aee6_868d_11ea_92b5_24ee9a354a6blevel0_row6\" class=\"row_heading level0 row6\" >75</th>\n",
       "                        <th id=\"T_93a9aee6_868d_11ea_92b5_24ee9a354a6blevel1_row6\" class=\"row_heading level1 row6\" >Brutality Ivory Warmace</th>\n",
       "                        <td id=\"T_93a9aee6_868d_11ea_92b5_24ee9a354a6brow6_col0\" class=\"data row6 col0\" >8</td>\n",
       "                        <td id=\"T_93a9aee6_868d_11ea_92b5_24ee9a354a6brow6_col1\" class=\"data row6 col1\" >$2.42</td>\n",
       "                        <td id=\"T_93a9aee6_868d_11ea_92b5_24ee9a354a6brow6_col2\" class=\"data row6 col2\" >$19.36</td>\n",
       "            </tr>\n",
       "            <tr>\n",
       "                        <th id=\"T_93a9aee6_868d_11ea_92b5_24ee9a354a6blevel0_row7\" class=\"row_heading level0 row7\" >103</th>\n",
       "                        <th id=\"T_93a9aee6_868d_11ea_92b5_24ee9a354a6blevel1_row7\" class=\"row_heading level1 row7\" >Singed Scalpel</th>\n",
       "                        <td id=\"T_93a9aee6_868d_11ea_92b5_24ee9a354a6brow7_col0\" class=\"data row7 col0\" >8</td>\n",
       "                        <td id=\"T_93a9aee6_868d_11ea_92b5_24ee9a354a6brow7_col1\" class=\"data row7 col1\" >$4.35</td>\n",
       "                        <td id=\"T_93a9aee6_868d_11ea_92b5_24ee9a354a6brow7_col2\" class=\"data row7 col2\" >$34.80</td>\n",
       "            </tr>\n",
       "            <tr>\n",
       "                        <th id=\"T_93a9aee6_868d_11ea_92b5_24ee9a354a6blevel0_row8\" class=\"row_heading level0 row8\" >34</th>\n",
       "                        <th id=\"T_93a9aee6_868d_11ea_92b5_24ee9a354a6blevel1_row8\" class=\"row_heading level1 row8\" >Retribution Axe</th>\n",
       "                        <td id=\"T_93a9aee6_868d_11ea_92b5_24ee9a354a6brow8_col0\" class=\"data row8 col0\" >8</td>\n",
       "                        <td id=\"T_93a9aee6_868d_11ea_92b5_24ee9a354a6brow8_col1\" class=\"data row8 col1\" >$2.22</td>\n",
       "                        <td id=\"T_93a9aee6_868d_11ea_92b5_24ee9a354a6brow8_col2\" class=\"data row8 col2\" >$17.76</td>\n",
       "            </tr>\n",
       "            <tr>\n",
       "                        <th id=\"T_93a9aee6_868d_11ea_92b5_24ee9a354a6blevel0_row9\" class=\"row_heading level0 row9\" >37</th>\n",
       "                        <th id=\"T_93a9aee6_868d_11ea_92b5_24ee9a354a6blevel1_row9\" class=\"row_heading level1 row9\" >Shadow Strike, Glory of Ending Hope</th>\n",
       "                        <td id=\"T_93a9aee6_868d_11ea_92b5_24ee9a354a6brow9_col0\" class=\"data row9 col0\" >8</td>\n",
       "                        <td id=\"T_93a9aee6_868d_11ea_92b5_24ee9a354a6brow9_col1\" class=\"data row9 col1\" >$3.16</td>\n",
       "                        <td id=\"T_93a9aee6_868d_11ea_92b5_24ee9a354a6brow9_col2\" class=\"data row9 col2\" >$25.28</td>\n",
       "            </tr>\n",
       "    </tbody></table>"
      ],
      "text/plain": [
       "<pandas.io.formats.style.Styler at 0x1a9268e2808>"
      ]
     },
     "execution_count": 32,
     "metadata": {},
     "output_type": "execute_result"
    }
   ],
   "source": [
    "# Find the Purchase Count by Item ID\n",
    "purch_count_by_item_df = df[['Item ID', 'Item Name', 'Purchase ID']] \\\n",
    "    .groupby(by=['Item ID', 'Item Name']).count() \\\n",
    "    .rename(columns={'Purchase ID' : 'Purchase Count'})\n",
    "\n",
    "# Find the Item Price by Item ID\n",
    "item_price_by_item_df = df[['Item ID', 'Item Name', 'Price']] \\\n",
    "    .groupby(by=['Item ID', 'Item Name']).max() \\\n",
    "    .rename(columns={'Price' : 'Item Price'})\n",
    "\n",
    "# Find the Total Purchase Value by Item ID\n",
    "total_purch_value_by_item_df = df[['Item ID', 'Item Name', 'Price']] \\\n",
    "    .groupby(by=['Item ID', 'Item Name']).sum() \\\n",
    "    .rename(columns={'Price' : 'Total Purchase Value'})\n",
    "\n",
    "# Load in summary data frame\n",
    "most_pop_items_df = pd.concat([\n",
    "    purch_count_by_item_df\n",
    "    ,item_price_by_item_df\n",
    "    ,total_purch_value_by_item_df\n",
    "    ]\n",
    "    ,axis=1\n",
    "    )\n",
    "\n",
    "# Sort data frame in descending order by 'Purchase Count'\n",
    "most_pop_items_df.sort_values('Purchase Count', ascending=False, inplace=True) \n",
    "\n",
    "# Format data frame\n",
    "most_pop_items_df.head(10).style.format({\n",
    "    'Item Price' : '${:.2f}'\n",
    "    ,'Total Purchase Value' : '${:.2f}'\n",
    "    })"
   ]
  },
  {
   "cell_type": "code",
   "execution_count": 33,
   "metadata": {},
   "outputs": [],
   "source": [
    "top_10_items = most_pop_items_df.reset_index('Item ID')['Purchase Count'].sort_values(ascending=False)"
   ]
  },
  {
   "cell_type": "code",
   "execution_count": 34,
   "metadata": {},
   "outputs": [
    {
     "data": {
      "image/png": "[encoded data removed]",
      "text/plain": [
       "<Figure size 1332x756 with 1 Axes>"
      ]
     },
     "metadata": {
      "needs_background": "light"
     },
     "output_type": "display_data"
    }
   ],
   "source": [
    "top_10_items = most_pop_items_df.reset_index('Item ID')['Purchase Count'].sort_values(ascending=False).head(10).sort_values()\n",
    "\n",
    "fig,ax = plt.subplots()\n",
    "\n",
    "# Set size of figure\n",
    "fig.set_size_inches(18.5, 10.5, forward=True)\n",
    "\n",
    "# Set graph title\n",
    "fig.suptitle('WHAT ARE THE MOST POPULAR ITEMS?', fontsize=24, weight='bold')\n",
    "\n",
    "# Plot bars\n",
    "ax.barh(top_10_items.index, width=top_10_items)\n",
    "\n",
    "# Label the bars with their corresponding values\n",
    "rects = ax.patches\n",
    "labels = list(top_10_items)\n",
    "for rect, label in zip(rects, labels):\n",
    "    width = rect.get_width()\n",
    "    ax.text(width + .1, rect.get_y() + rect.get_height() / 2, label)\n",
    "    \n",
    "# Clean up graph\n",
    "ax.set_frame_on(False) # Remove frames to reduce ink\n",
    "ax.get_xaxis().set_visible(False)\n",
    "\n",
    "# Display bar graph\n",
    "plt.show()\n",
    "\n",
    "# Export chart to an image\n",
    "fig.savefig('images/fig5_popular_items.png')"
   ]
  },
  {
   "cell_type": "markdown",
   "metadata": {},
   "source": [
    "## 9. MOST PROFITABLE ITEMS\n",
    "---"
   ]
  },
  {
   "cell_type": "code",
   "execution_count": 35,
   "metadata": {},
   "outputs": [
    {
     "data": {
      "text/html": [
       "<style  type=\"text/css\" >\n",
       "</style><table id=\"T_9672c37e_868d_11ea_bb93_24ee9a354a6b\" ><thead>    <tr>        <th class=\"blank\" ></th>        <th class=\"blank level0\" ></th>        <th class=\"col_heading level0 col0\" >Purchase Count</th>        <th class=\"col_heading level0 col1\" >Item Price</th>        <th class=\"col_heading level0 col2\" >Total Purchase Value</th>    </tr>    <tr>        <th class=\"index_name level0\" >Item ID</th>        <th class=\"index_name level1\" >Item Name</th>        <th class=\"blank\" ></th>        <th class=\"blank\" ></th>        <th class=\"blank\" ></th>    </tr></thead><tbody>\n",
       "                <tr>\n",
       "                        <th id=\"T_9672c37e_868d_11ea_bb93_24ee9a354a6blevel0_row0\" class=\"row_heading level0 row0\" >92</th>\n",
       "                        <th id=\"T_9672c37e_868d_11ea_bb93_24ee9a354a6blevel1_row0\" class=\"row_heading level1 row0\" >Final Critic</th>\n",
       "                        <td id=\"T_9672c37e_868d_11ea_bb93_24ee9a354a6brow0_col0\" class=\"data row0 col0\" >13</td>\n",
       "                        <td id=\"T_9672c37e_868d_11ea_bb93_24ee9a354a6brow0_col1\" class=\"data row0 col1\" >$4.88</td>\n",
       "                        <td id=\"T_9672c37e_868d_11ea_bb93_24ee9a354a6brow0_col2\" class=\"data row0 col2\" >$59.99</td>\n",
       "            </tr>\n",
       "            <tr>\n",
       "                        <th id=\"T_9672c37e_868d_11ea_bb93_24ee9a354a6blevel0_row1\" class=\"row_heading level0 row1\" >178</th>\n",
       "                        <th id=\"T_9672c37e_868d_11ea_bb93_24ee9a354a6blevel1_row1\" class=\"row_heading level1 row1\" >Oathbreaker, Last Hope of the Breaking Storm</th>\n",
       "                        <td id=\"T_9672c37e_868d_11ea_bb93_24ee9a354a6brow1_col0\" class=\"data row1 col0\" >12</td>\n",
       "                        <td id=\"T_9672c37e_868d_11ea_bb93_24ee9a354a6brow1_col1\" class=\"data row1 col1\" >$4.23</td>\n",
       "                        <td id=\"T_9672c37e_868d_11ea_bb93_24ee9a354a6brow1_col2\" class=\"data row1 col2\" >$50.76</td>\n",
       "            </tr>\n",
       "            <tr>\n",
       "                        <th id=\"T_9672c37e_868d_11ea_bb93_24ee9a354a6blevel0_row2\" class=\"row_heading level0 row2\" >82</th>\n",
       "                        <th id=\"T_9672c37e_868d_11ea_bb93_24ee9a354a6blevel1_row2\" class=\"row_heading level1 row2\" >Nirvana</th>\n",
       "                        <td id=\"T_9672c37e_868d_11ea_bb93_24ee9a354a6brow2_col0\" class=\"data row2 col0\" >9</td>\n",
       "                        <td id=\"T_9672c37e_868d_11ea_bb93_24ee9a354a6brow2_col1\" class=\"data row2 col1\" >$4.90</td>\n",
       "                        <td id=\"T_9672c37e_868d_11ea_bb93_24ee9a354a6brow2_col2\" class=\"data row2 col2\" >$44.10</td>\n",
       "            </tr>\n",
       "            <tr>\n",
       "                        <th id=\"T_9672c37e_868d_11ea_bb93_24ee9a354a6blevel0_row3\" class=\"row_heading level0 row3\" >145</th>\n",
       "                        <th id=\"T_9672c37e_868d_11ea_bb93_24ee9a354a6blevel1_row3\" class=\"row_heading level1 row3\" >Fiery Glass Crusader</th>\n",
       "                        <td id=\"T_9672c37e_868d_11ea_bb93_24ee9a354a6brow3_col0\" class=\"data row3 col0\" >9</td>\n",
       "                        <td id=\"T_9672c37e_868d_11ea_bb93_24ee9a354a6brow3_col1\" class=\"data row3 col1\" >$4.58</td>\n",
       "                        <td id=\"T_9672c37e_868d_11ea_bb93_24ee9a354a6brow3_col2\" class=\"data row3 col2\" >$41.22</td>\n",
       "            </tr>\n",
       "            <tr>\n",
       "                        <th id=\"T_9672c37e_868d_11ea_bb93_24ee9a354a6blevel0_row4\" class=\"row_heading level0 row4\" >103</th>\n",
       "                        <th id=\"T_9672c37e_868d_11ea_bb93_24ee9a354a6blevel1_row4\" class=\"row_heading level1 row4\" >Singed Scalpel</th>\n",
       "                        <td id=\"T_9672c37e_868d_11ea_bb93_24ee9a354a6brow4_col0\" class=\"data row4 col0\" >8</td>\n",
       "                        <td id=\"T_9672c37e_868d_11ea_bb93_24ee9a354a6brow4_col1\" class=\"data row4 col1\" >$4.35</td>\n",
       "                        <td id=\"T_9672c37e_868d_11ea_bb93_24ee9a354a6brow4_col2\" class=\"data row4 col2\" >$34.80</td>\n",
       "            </tr>\n",
       "            <tr>\n",
       "                        <th id=\"T_9672c37e_868d_11ea_bb93_24ee9a354a6blevel0_row5\" class=\"row_heading level0 row5\" >59</th>\n",
       "                        <th id=\"T_9672c37e_868d_11ea_bb93_24ee9a354a6blevel1_row5\" class=\"row_heading level1 row5\" >Lightning, Etcher of the King</th>\n",
       "                        <td id=\"T_9672c37e_868d_11ea_bb93_24ee9a354a6brow5_col0\" class=\"data row5 col0\" >8</td>\n",
       "                        <td id=\"T_9672c37e_868d_11ea_bb93_24ee9a354a6brow5_col1\" class=\"data row5 col1\" >$4.23</td>\n",
       "                        <td id=\"T_9672c37e_868d_11ea_bb93_24ee9a354a6brow5_col2\" class=\"data row5 col2\" >$33.84</td>\n",
       "            </tr>\n",
       "            <tr>\n",
       "                        <th id=\"T_9672c37e_868d_11ea_bb93_24ee9a354a6blevel0_row6\" class=\"row_heading level0 row6\" >108</th>\n",
       "                        <th id=\"T_9672c37e_868d_11ea_bb93_24ee9a354a6blevel1_row6\" class=\"row_heading level1 row6\" >Extraction, Quickblade Of Trembling Hands</th>\n",
       "                        <td id=\"T_9672c37e_868d_11ea_bb93_24ee9a354a6brow6_col0\" class=\"data row6 col0\" >9</td>\n",
       "                        <td id=\"T_9672c37e_868d_11ea_bb93_24ee9a354a6brow6_col1\" class=\"data row6 col1\" >$3.53</td>\n",
       "                        <td id=\"T_9672c37e_868d_11ea_bb93_24ee9a354a6brow6_col2\" class=\"data row6 col2\" >$31.77</td>\n",
       "            </tr>\n",
       "            <tr>\n",
       "                        <th id=\"T_9672c37e_868d_11ea_bb93_24ee9a354a6blevel0_row7\" class=\"row_heading level0 row7\" >78</th>\n",
       "                        <th id=\"T_9672c37e_868d_11ea_bb93_24ee9a354a6blevel1_row7\" class=\"row_heading level1 row7\" >Glimmer, Ender of the Moon</th>\n",
       "                        <td id=\"T_9672c37e_868d_11ea_bb93_24ee9a354a6brow7_col0\" class=\"data row7 col0\" >7</td>\n",
       "                        <td id=\"T_9672c37e_868d_11ea_bb93_24ee9a354a6brow7_col1\" class=\"data row7 col1\" >$4.40</td>\n",
       "                        <td id=\"T_9672c37e_868d_11ea_bb93_24ee9a354a6brow7_col2\" class=\"data row7 col2\" >$30.80</td>\n",
       "            </tr>\n",
       "            <tr>\n",
       "                        <th id=\"T_9672c37e_868d_11ea_bb93_24ee9a354a6blevel0_row8\" class=\"row_heading level0 row8\" >72</th>\n",
       "                        <th id=\"T_9672c37e_868d_11ea_bb93_24ee9a354a6blevel1_row8\" class=\"row_heading level1 row8\" >Winter's Bite</th>\n",
       "                        <td id=\"T_9672c37e_868d_11ea_bb93_24ee9a354a6brow8_col0\" class=\"data row8 col0\" >8</td>\n",
       "                        <td id=\"T_9672c37e_868d_11ea_bb93_24ee9a354a6brow8_col1\" class=\"data row8 col1\" >$3.77</td>\n",
       "                        <td id=\"T_9672c37e_868d_11ea_bb93_24ee9a354a6brow8_col2\" class=\"data row8 col2\" >$30.16</td>\n",
       "            </tr>\n",
       "            <tr>\n",
       "                        <th id=\"T_9672c37e_868d_11ea_bb93_24ee9a354a6blevel0_row9\" class=\"row_heading level0 row9\" >132</th>\n",
       "                        <th id=\"T_9672c37e_868d_11ea_bb93_24ee9a354a6blevel1_row9\" class=\"row_heading level1 row9\" >Persuasion</th>\n",
       "                        <td id=\"T_9672c37e_868d_11ea_bb93_24ee9a354a6brow9_col0\" class=\"data row9 col0\" >9</td>\n",
       "                        <td id=\"T_9672c37e_868d_11ea_bb93_24ee9a354a6brow9_col1\" class=\"data row9 col1\" >$3.33</td>\n",
       "                        <td id=\"T_9672c37e_868d_11ea_bb93_24ee9a354a6brow9_col2\" class=\"data row9 col2\" >$28.99</td>\n",
       "            </tr>\n",
       "    </tbody></table>"
      ],
      "text/plain": [
       "<pandas.io.formats.style.Styler at 0x1a92684f388>"
      ]
     },
     "execution_count": 35,
     "metadata": {},
     "output_type": "execute_result"
    }
   ],
   "source": [
    "# Sort most_pop_items_df by 'Total Purchase Value'\n",
    "most_profit_items_df = most_pop_items_df.sort_values('Total Purchase Value', ascending=False)\n",
    "most_profit_items_df.head(10).style.format({\n",
    "    'Item Price' : '${:.2f}'\n",
    "    ,'Total Purchase Value' : '${:.2f}'\n",
    "    })"
   ]
  },
  {
   "cell_type": "code",
   "execution_count": 36,
   "metadata": {},
   "outputs": [
    {
     "data": {
      "image/png": "[encoded data removed]",
      "text/plain": [
       "<Figure size 1332x756 with 1 Axes>"
      ]
     },
     "metadata": {
      "needs_background": "light"
     },
     "output_type": "display_data"
    }
   ],
   "source": [
    "top_10_profitable_items = most_profit_items_df.reset_index('Item ID')['Total Purchase Value'].sort_values(ascending=False).head(10).sort_values()\n",
    "\n",
    "fig,ax = plt.subplots()\n",
    "\n",
    "# Set size of figure\n",
    "fig.set_size_inches(18.5, 10.5, forward=True)\n",
    "\n",
    "# Set graph title\n",
    "fig.suptitle('WHAT ARE THE MOST PROFITABLE ITEMS?', fontsize=24, weight='bold')\n",
    "\n",
    "# Plot bars\n",
    "ax.barh(top_10_profitable_items.index, width=top_10_profitable_items)\n",
    "\n",
    "# Label the bars with their corresponding values\n",
    "rects = ax.patches\n",
    "labels = list(top_10_profitable_items)\n",
    "for rect, label in zip(rects, labels):\n",
    "    width = rect.get_width()\n",
    "    ax.text(width + .5, rect.get_y() + rect.get_height() / 2, f'$ {round(label,2)}')\n",
    "    \n",
    "# Clean up graph\n",
    "ax.set_frame_on(False) # Remove frames to reduce ink\n",
    "ax.get_xaxis().set_visible(False)\n",
    "\n",
    "# Display bar graph\n",
    "plt.show()\n",
    "\n",
    "# Export chart to an image\n",
    "fig.savefig('images/fig6_profitable_items.png')"
   ]
  }
 ],
 "metadata": {
  "anaconda-cloud": {},
  "kernel_info": {
   "name": "python3"
  },
  "kernelspec": {
   "display_name": "Python 3",
   "language": "python",
   "name": "python3"
  },
  "language_info": {
   "codemirror_mode": {
    "name": "ipython",
    "version": 3
   },
   "file_extension": ".py",
   "mimetype": "text/x-python",
   "name": "python",
   "nbconvert_exporter": "python",
   "pygments_lexer": "ipython3",
   "version": "3.7.4"
  },
  "latex_envs": {
   "LaTeX_envs_menu_present": true,
   "autoclose": false,
   "autocomplete": true,
   "bibliofile": "biblio.bib",
   "cite_by": "apalike",
   "current_citInitial": 1,
   "eqLabelWithNumbers": true,
   "eqNumInitial": 1,
   "hotkeys": {
    "equation": "Ctrl-E",
    "itemize": "Ctrl-I"
   },
   "labels_anchors": false,
   "latex_user_defs": false,
   "report_style_numbering": false,
   "user_envs_cfg": false
  },
  "nteract": {
   "version": "0.2.0"
  },
  "varInspector": {
   "cols": {
    "lenName": 16,
    "lenType": 16,
    "lenVar": 40
   },
   "kernels_config": {
    "python": {
     "delete_cmd_postfix": "",
     "delete_cmd_prefix": "del ",
     "library": "var_list.py",
     "varRefreshCmd": "print(var_dic_list())"
    },
    "r": {
     "delete_cmd_postfix": ") ",
     "delete_cmd_prefix": "rm(",
     "library": "var_list.r",
     "varRefreshCmd": "cat(var_dic_list()) "
    }
   },
   "types_to_exclude": [
    "module",
    "function",
    "builtin_function_or_method",
    "instance",
    "_Feature"
   ],
   "window_display": false
  }
 },
 "nbformat": 4,
 "nbformat_minor": 2
}
